{
 "cells": [
  {
   "cell_type": "code",
   "execution_count": 2,
   "id": "34d39e08",
   "metadata": {},
   "outputs": [],
   "source": [
    "import random\n",
    "#number of task nodes\n",
    "TN=2\n",
    "#number of helper nodes\n",
    "HN=5\n",
    "p=[]\n",
    "for i in range(TN):\n",
    "    for j in range(HN):\n",
    "        num=random.randint(120,220)\n",
    "        p.append(num)"
   ]
  },
  {
   "cell_type": "code",
   "execution_count": 3,
   "id": "125a5ced",
   "metadata": {},
   "outputs": [],
   "source": [
    "import numpy as np\n",
    "arr=np.array(p)\n",
    "arr.shape=(TN,HN)\n",
    "#print(arr)\n",
    "p=arr.tolist()"
   ]
  },
  {
   "cell_type": "code",
   "execution_count": 4,
   "id": "4f41e45d",
   "metadata": {},
   "outputs": [
    {
     "name": "stdout",
     "output_type": "stream",
     "text": [
      "[[174, 134, 215, 196, 207], [195, 184, 204, 131, 133]]\n"
     ]
    }
   ],
   "source": [
    "print(p)"
   ]
  },
  {
   "cell_type": "code",
   "execution_count": 5,
   "id": "ba271420",
   "metadata": {},
   "outputs": [],
   "source": [
    "import math\n",
    "SE = [[0]*TN]*HN\n",
    "SE_NEW=[]\n",
    "B=200\n",
    "N=150\n",
    "#print(SE)\n",
    "for l in range(HN):\n",
    "    for i in range(TN):\n",
    "        P=min((p[i][l]),200)\n",
    "        SE[l][i]=B*(math.log2(1+(P/(B*N))))\n",
    "        value=SE[l][i]\n",
    "        #print(SE[l][i])\n",
    "        SE_NEW.append(value)"
   ]
  },
  {
   "cell_type": "code",
   "execution_count": 6,
   "id": "d59abeed",
   "metadata": {},
   "outputs": [
    {
     "name": "stdout",
     "output_type": "stream",
     "text": [
      "[1.6686917058669937, 1.86943445185052, 1.2859377753916579, 1.7643009079007985, 1.9172097658395866, 1.9172097658395866, 1.8789901475072943, 1.2572107522356535, 1.9172097658395866, 1.276362418788401]\n"
     ]
    }
   ],
   "source": [
    "print(SE_NEW)"
   ]
  },
  {
   "cell_type": "code",
   "execution_count": 7,
   "id": "abbd1e5c",
   "metadata": {},
   "outputs": [
    {
     "name": "stdout",
     "output_type": "stream",
     "text": [
      "[[1.66869171 1.86943445]\n",
      " [1.28593778 1.76430091]\n",
      " [1.91720977 1.91720977]\n",
      " [1.87899015 1.25721075]\n",
      " [1.91720977 1.27636242]]\n"
     ]
    }
   ],
   "source": [
    "import numpy as np\n",
    "SE_UP=np.array(SE_NEW)\n",
    "#print(SE_UP)\n",
    "SE_UP.shape=(HN,TN)\n",
    "print(SE_UP)"
   ]
  },
  {
   "cell_type": "code",
   "execution_count": 8,
   "id": "915c3fac",
   "metadata": {},
   "outputs": [],
   "source": [
    "SE_UP = SE_UP.tolist()"
   ]
  },
  {
   "cell_type": "code",
   "execution_count": 9,
   "id": "9d8da10d",
   "metadata": {},
   "outputs": [],
   "source": [
    "PL_HN=[]\n",
    "for i in range(HN):\n",
    "    #print(SE_UP[i])\n",
    "    PLHN=SE_UP[i].index(max(SE_UP[i]))\n",
    "    #print(PLHN)\n",
    "    PL_HN.append(PLHN)"
   ]
  },
  {
   "cell_type": "code",
   "execution_count": 10,
   "id": "9182220d",
   "metadata": {},
   "outputs": [
    {
     "name": "stdout",
     "output_type": "stream",
     "text": [
      "[1, 1, 0, 0, 0]\n"
     ]
    }
   ],
   "source": [
    "print(PL_HN)"
   ]
  },
  {
   "cell_type": "code",
   "execution_count": 11,
   "id": "4d24a48d",
   "metadata": {},
   "outputs": [
    {
     "name": "stdout",
     "output_type": "stream",
     "text": [
      "[174, 134, 215, 196, 207]\n",
      "[130, 171, 105, 113, 196]\n",
      "0.948522258725731\n",
      "0.9516440907932034\n",
      "0.8805087287383841\n",
      "0.9466220267108527\n",
      "0.9196695135695021\n",
      "0.9481956384619908\n",
      "0.9508614501378951\n",
      "0.9273581478382676\n",
      "0.9476306014369903\n",
      "0.9526741516638191\n"
     ]
    }
   ],
   "source": [
    "C=[]\n",
    "for k in range(HN):\n",
    "    num4=random.randint(100,250)\n",
    "    C.append(num4)\n",
    "print(p[0])\n",
    "print(C)\n",
    "e= []\n",
    "for j in range(TN):\n",
    "    for i in range(HN):\n",
    "        temp5=((1/C[i])+(1/SE_UP[i][j]))\n",
    "        R=1/temp5\n",
    "        temp6=((150/C[i])+(p[j][i]/SE_UP[i][j]))\n",
    "        Q=(temp6/temp5)\n",
    "        new=(R/Q)*100\n",
    "        if new>1:\n",
    "            new=new-1\n",
    "        print(new)\n",
    "        e.append(new)\n",
    "arr=np.array(e)\n",
    "arr.shape=(TN,HN)\n",
    "eta=arr.tolist()      "
   ]
  },
  {
   "cell_type": "code",
   "execution_count": 12,
   "id": "9e5c12ec",
   "metadata": {},
   "outputs": [
    {
     "name": "stdout",
     "output_type": "stream",
     "text": [
      "[[0.948522258725731, 0.9516440907932034, 0.8805087287383841, 0.9466220267108527, 0.9196695135695021], [0.9481956384619908, 0.9508614501378951, 0.9273581478382676, 0.9476306014369903, 0.9526741516638191]]\n"
     ]
    }
   ],
   "source": [
    "print(eta)"
   ]
  },
  {
   "cell_type": "code",
   "execution_count": 13,
   "id": "a2b66633",
   "metadata": {},
   "outputs": [
    {
     "name": "stdout",
     "output_type": "stream",
     "text": [
      "{0: 0.948522258725731, 1: 0.9516440907932034, 2: 0.8805087287383841, 3: 0.9466220267108527, 4: 0.9196695135695021}\n",
      "{0: 0.9481956384619908, 1: 0.9508614501378951, 2: 0.9273581478382676, 3: 0.9476306014369903, 4: 0.9526741516638191}\n"
     ]
    }
   ],
   "source": [
    "EE=[[0]*TN]*HN\n",
    "for i in range(TN):\n",
    "    lst=eta[i]\n",
    "    EE[i]= {i: lst[i] for i in range(0, len(lst))}\n",
    "    print(EE[i])"
   ]
  },
  {
   "cell_type": "code",
   "execution_count": 14,
   "id": "8db29e71",
   "metadata": {},
   "outputs": [
    {
     "name": "stdout",
     "output_type": "stream",
     "text": [
      "{1: 0.9516440907932034, 0: 0.948522258725731, 3: 0.9466220267108527, 4: 0.9196695135695021, 2: 0.8805087287383841}\n",
      "[1, 0, 3, 4, 2]\n",
      "{4: 0.9526741516638191, 1: 0.9508614501378951, 0: 0.9481956384619908, 3: 0.9476306014369903, 2: 0.9273581478382676}\n",
      "[4, 1, 0, 3, 2]\n"
     ]
    }
   ],
   "source": [
    "PL_t0= []\n",
    "PL_T0=[]\n",
    "PL_EE=[]\n",
    "for i in range(TN):\n",
    "    PL_t0= sorted(EE[i].items(), key=lambda x:x[1], reverse=True)\n",
    "    PL_t0= dict(PL_t0)\n",
    "    print(PL_t0)\n",
    "    PL_T0=list(PL_t0.keys())\n",
    "    print(PL_T0)\n",
    "    PL_EE.append(PL_T0)\n",
    "    "
   ]
  },
  {
   "cell_type": "code",
   "execution_count": 15,
   "id": "fb03efdc",
   "metadata": {},
   "outputs": [
    {
     "name": "stdout",
     "output_type": "stream",
     "text": [
      "[[1, 0, 3, 4, 2], [4, 1, 0, 3, 2]]\n"
     ]
    }
   ],
   "source": [
    "print(PL_EE)"
   ]
  },
  {
   "cell_type": "code",
   "execution_count": 16,
   "id": "8f81a025",
   "metadata": {},
   "outputs": [
    {
     "name": "stdout",
     "output_type": "stream",
     "text": [
      "Helper Node 3 assigned to task node 0\n",
      "Helper Node 4 assigned to task node 0\n",
      "Helper Node 1 assigned to task node 1\n",
      "Helper Node 0 assigned to task node 1\n"
     ]
    }
   ],
   "source": [
    "j=0\n",
    "assigned=0\n",
    "for i in range(HN):\n",
    "    if assigned<2:\n",
    "        val=PL_EE[0][i]\n",
    "        if (PL_HN[int(val)] == 0):\n",
    "            assigned+=1\n",
    "            print('Helper Node ' +str(val)+ \" assigned to task node 0\")\n",
    "j=1\n",
    "assigned=0\n",
    "for i in range(HN):\n",
    "    if assigned<2:\n",
    "        val=PL_EE[j][i]\n",
    "        if (PL_HN[int(val)] == 1):\n",
    "            assigned+=1\n",
    "            print('Helper Node ' +str(val)+ \" assigned to task node 1\")  \n"
   ]
  },
  {
   "cell_type": "code",
   "execution_count": 17,
   "id": "0355dcbf",
   "metadata": {},
   "outputs": [
    {
     "data": {
      "image/png": "[encoded data removed]",
      "text/plain": [
       "<Figure size 432x288 with 1 Axes>"
      ]
     },
     "metadata": {
      "needs_background": "light"
     },
     "output_type": "display_data"
    }
   ],
   "source": [
    "import matplotlib.pyplot as plt\n",
    "plt.plot(SE_UP[0],label='SERVICE EFFICIENCY - T0')\n",
    "plt.plot(SE_UP[1],label='SERVICE EFFICIENCY- T1')\n",
    "#plt.plot(eta,label='test')\n",
    "plt.legend()\n",
    "plt.show()"
   ]
  },
  {
   "cell_type": "code",
   "execution_count": 24,
   "id": "e1714c47",
   "metadata": {},
   "outputs": [
    {
     "data": {
      "image/png": "[encoded data removed]",
      "text/plain": [
       "<Figure size 432x288 with 1 Axes>"
      ]
     },
     "metadata": {
      "needs_background": "light"
     },
     "output_type": "display_data"
    }
   ],
   "source": [
    "import matplotlib.pyplot as plt\n",
    "plt.plot(eta[0],label='ENERGY EFFICIENCY - TN0')\n",
    "plt.plot(eta[1],label='ENERGY EFFICIENCY - TN1')\n",
    "plt.legend()\n",
    "plt.show()"
   ]
  }
 ],
 "metadata": {
  "kernelspec": {
   "display_name": "Python 3 (ipykernel)",
   "language": "python",
   "name": "python3"
  },
  "language_info": {
   "codemirror_mode": {
    "name": "ipython",
    "version": 3
   },
   "file_extension": ".py",
   "mimetype": "text/x-python",
   "name": "python",
   "nbconvert_exporter": "python",
   "pygments_lexer": "ipython3",
   "version": "3.9.12"
  }
 },
 "nbformat": 4,
 "nbformat_minor": 5
}
